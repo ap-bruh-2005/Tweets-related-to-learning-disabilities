{
 "cells": [
  {
   "cell_type": "code",
   "execution_count": 8,
   "id": "1508c05a-4086-4625-92dd-80b37f0a3760",
   "metadata": {},
   "outputs": [],
   "source": [
    "import pandas as pd\n",
    "import nltk\n",
    "from nltk.corpus import stopwords\n",
    "from nltk.stem import PorterStemmer\n",
    "import numpy as np\n",
    "from sklearn.cluster import KMeans \n",
    "import matplotlib.pyplot as plt\n",
    "from nltk.tokenize import sent_tokenize, word_tokenize\n",
    "from textblob import TextBlob\n",
    "from nltk.sentiment.vader import SentimentIntensityAnalyzer\n",
    "import numpy as np\n",
    "import matplotlib.pyplot as plt"
   ]
  },
  {
   "cell_type": "code",
   "execution_count": 9,
   "id": "c0c88fca-a42c-4ec5-a429-f17fdbd72a93",
   "metadata": {},
   "outputs": [],
   "source": [
    "from matplotlib.pyplot import figure"
   ]
  },
  {
   "cell_type": "code",
   "execution_count": 10,
   "id": "99a4086c-9aa5-4da7-a2e1-9ffbc38e221f",
   "metadata": {},
   "outputs": [],
   "source": [
    "import operator"
   ]
  },
  {
   "cell_type": "code",
   "execution_count": 11,
   "id": "1c8487d3",
   "metadata": {},
   "outputs": [],
   "source": [
    "import re\n",
    "from nltk.stem.wordnet import WordNetLemmatizer"
   ]
  },
  {
   "cell_type": "code",
   "execution_count": 12,
   "id": "2e157084",
   "metadata": {},
   "outputs": [],
   "source": [
    "from vaderSentiment.vaderSentiment import SentimentIntensityAnalyzer\n",
    "from textblob import TextBlob"
   ]
  },
  {
   "cell_type": "code",
   "execution_count": 13,
   "id": "f02168fe",
   "metadata": {},
   "outputs": [],
   "source": [
    "lemmatizer = WordNetLemmatizer()"
   ]
  },
  {
   "cell_type": "code",
   "execution_count": 14,
   "id": "800df828-55dc-43b4-9247-355ec5157fb3",
   "metadata": {
    "collapsed": true,
    "jupyter": {
     "outputs_hidden": true
    },
    "tags": []
   },
   "outputs": [
    {
     "name": "stderr",
     "output_type": "stream",
     "text": [
      "/Users/pandurangprabhu/opt/anaconda3/lib/python3.8/site-packages/IPython/core/interactiveshell.py:3165: DtypeWarning: Columns (1,5,6,8,10,11,12,13,14,15,19,22) have mixed types.Specify dtype option on import or set low_memory=False.\n",
      "  has_raised = await self.run_ast_nodes(code_ast.body, cell_name,\n"
     ]
    }
   ],
   "source": [
    "df = pd.read_csv('Learning_disability2.csv')"
   ]
  },
  {
   "cell_type": "code",
   "execution_count": 15,
   "id": "db17b679-330a-4dbf-9036-25eeb0dea6cb",
   "metadata": {},
   "outputs": [
    {
     "data": {
      "text/html": [
       "<div>\n",
       "<style scoped>\n",
       "    .dataframe tbody tr th:only-of-type {\n",
       "        vertical-align: middle;\n",
       "    }\n",
       "\n",
       "    .dataframe tbody tr th {\n",
       "        vertical-align: top;\n",
       "    }\n",
       "\n",
       "    .dataframe thead th {\n",
       "        text-align: right;\n",
       "    }\n",
       "</style>\n",
       "<table border=\"1\" class=\"dataframe\">\n",
       "  <thead>\n",
       "    <tr style=\"text-align: right;\">\n",
       "      <th></th>\n",
       "      <th>Unnamed: 0</th>\n",
       "      <th>created_at</th>\n",
       "      <th>date</th>\n",
       "      <th>timezone</th>\n",
       "      <th>tweet</th>\n",
       "      <th>language</th>\n",
       "      <th>hashtags</th>\n",
       "      <th>cashtags</th>\n",
       "      <th>day</th>\n",
       "      <th>hour</th>\n",
       "      <th>...</th>\n",
       "      <th>nreplies</th>\n",
       "      <th>nretweets</th>\n",
       "      <th>quote_url</th>\n",
       "      <th>search</th>\n",
       "      <th>retweet_id</th>\n",
       "      <th>reply_to</th>\n",
       "      <th>retweet_date</th>\n",
       "      <th>translate</th>\n",
       "      <th>trans_src</th>\n",
       "      <th>trans_dest</th>\n",
       "    </tr>\n",
       "  </thead>\n",
       "  <tbody>\n",
       "    <tr>\n",
       "      <th>0</th>\n",
       "      <td>0</td>\n",
       "      <td>1.27E+12</td>\n",
       "      <td>08/02/10 5:29</td>\n",
       "      <td>530.0</td>\n",
       "      <td>Wrote a number six yesterday and couldn't tell...</td>\n",
       "      <td>en</td>\n",
       "      <td>[]</td>\n",
       "      <td>[]</td>\n",
       "      <td>1</td>\n",
       "      <td>5.0</td>\n",
       "      <td>...</td>\n",
       "      <td>0.0</td>\n",
       "      <td>0.0</td>\n",
       "      <td>NaN</td>\n",
       "      <td>Dyslexia</td>\n",
       "      <td>NaN</td>\n",
       "      <td>[]</td>\n",
       "      <td>NaN</td>\n",
       "      <td>NaN</td>\n",
       "      <td>NaN</td>\n",
       "      <td>NaN</td>\n",
       "    </tr>\n",
       "    <tr>\n",
       "      <th>1</th>\n",
       "      <td>1</td>\n",
       "      <td>1.27E+12</td>\n",
       "      <td>08/02/10 5:00</td>\n",
       "      <td>530.0</td>\n",
       "      <td>dyslexia worsening... time for a break - what'...</td>\n",
       "      <td>en</td>\n",
       "      <td>[]</td>\n",
       "      <td>[]</td>\n",
       "      <td>1</td>\n",
       "      <td>5.0</td>\n",
       "      <td>...</td>\n",
       "      <td>0.0</td>\n",
       "      <td>0.0</td>\n",
       "      <td>NaN</td>\n",
       "      <td>Dyslexia</td>\n",
       "      <td>NaN</td>\n",
       "      <td>[]</td>\n",
       "      <td>NaN</td>\n",
       "      <td>NaN</td>\n",
       "      <td>NaN</td>\n",
       "      <td>NaN</td>\n",
       "    </tr>\n",
       "    <tr>\n",
       "      <th>2</th>\n",
       "      <td>2</td>\n",
       "      <td>1.27E+12</td>\n",
       "      <td>08/02/10 4:41</td>\n",
       "      <td>530.0</td>\n",
       "      <td>My Child Has A Reading Disability. Will He Hav...</td>\n",
       "      <td>en</td>\n",
       "      <td>['dyslexia', 'literacy', 'parenting']</td>\n",
       "      <td>[]</td>\n",
       "      <td>1</td>\n",
       "      <td>4.0</td>\n",
       "      <td>...</td>\n",
       "      <td>0.0</td>\n",
       "      <td>0.0</td>\n",
       "      <td>NaN</td>\n",
       "      <td>Dyslexia</td>\n",
       "      <td>NaN</td>\n",
       "      <td>[]</td>\n",
       "      <td>NaN</td>\n",
       "      <td>NaN</td>\n",
       "      <td>NaN</td>\n",
       "      <td>NaN</td>\n",
       "    </tr>\n",
       "    <tr>\n",
       "      <th>3</th>\n",
       "      <td>3</td>\n",
       "      <td>1.27E+12</td>\n",
       "      <td>08/02/10 3:44</td>\n",
       "      <td>530.0</td>\n",
       "      <td>@kg4uzj \"Old McDonald had dyslexia, O,I,E,I,E....</td>\n",
       "      <td>no</td>\n",
       "      <td>[]</td>\n",
       "      <td>[]</td>\n",
       "      <td>1</td>\n",
       "      <td>3.0</td>\n",
       "      <td>...</td>\n",
       "      <td>0.0</td>\n",
       "      <td>0.0</td>\n",
       "      <td>NaN</td>\n",
       "      <td>Dyslexia</td>\n",
       "      <td>NaN</td>\n",
       "      <td>[]</td>\n",
       "      <td>NaN</td>\n",
       "      <td>NaN</td>\n",
       "      <td>NaN</td>\n",
       "      <td>NaN</td>\n",
       "    </tr>\n",
       "    <tr>\n",
       "      <th>4</th>\n",
       "      <td>4</td>\n",
       "      <td>1.27E+12</td>\n",
       "      <td>08/02/10 3:32</td>\n",
       "      <td>530.0</td>\n",
       "      <td>#shoutout to dyslexia fucking up my spelling s...</td>\n",
       "      <td>en</td>\n",
       "      <td>['shoutout']</td>\n",
       "      <td>[]</td>\n",
       "      <td>1</td>\n",
       "      <td>3.0</td>\n",
       "      <td>...</td>\n",
       "      <td>0.0</td>\n",
       "      <td>0.0</td>\n",
       "      <td>NaN</td>\n",
       "      <td>Dyslexia</td>\n",
       "      <td>NaN</td>\n",
       "      <td>[]</td>\n",
       "      <td>NaN</td>\n",
       "      <td>NaN</td>\n",
       "      <td>NaN</td>\n",
       "      <td>NaN</td>\n",
       "    </tr>\n",
       "  </tbody>\n",
       "</table>\n",
       "<p>5 rows × 27 columns</p>\n",
       "</div>"
      ],
      "text/plain": [
       "   Unnamed: 0 created_at           date  timezone  \\\n",
       "0           0   1.27E+12  08/02/10 5:29     530.0   \n",
       "1           1   1.27E+12  08/02/10 5:00     530.0   \n",
       "2           2   1.27E+12  08/02/10 4:41     530.0   \n",
       "3           3   1.27E+12  08/02/10 3:44     530.0   \n",
       "4           4   1.27E+12  08/02/10 3:32     530.0   \n",
       "\n",
       "                                               tweet language  \\\n",
       "0  Wrote a number six yesterday and couldn't tell...       en   \n",
       "1  dyslexia worsening... time for a break - what'...       en   \n",
       "2  My Child Has A Reading Disability. Will He Hav...       en   \n",
       "3  @kg4uzj \"Old McDonald had dyslexia, O,I,E,I,E....       no   \n",
       "4  #shoutout to dyslexia fucking up my spelling s...       en   \n",
       "\n",
       "                                hashtags cashtags day  hour  ... nreplies  \\\n",
       "0                                     []       []   1   5.0  ...      0.0   \n",
       "1                                     []       []   1   5.0  ...      0.0   \n",
       "2  ['dyslexia', 'literacy', 'parenting']       []   1   4.0  ...      0.0   \n",
       "3                                     []       []   1   3.0  ...      0.0   \n",
       "4                           ['shoutout']       []   1   3.0  ...      0.0   \n",
       "\n",
       "  nretweets quote_url    search retweet_id reply_to  retweet_date  translate  \\\n",
       "0       0.0       NaN  Dyslexia        NaN       []           NaN        NaN   \n",
       "1       0.0       NaN  Dyslexia        NaN       []           NaN        NaN   \n",
       "2       0.0       NaN  Dyslexia        NaN       []           NaN        NaN   \n",
       "3       0.0       NaN  Dyslexia        NaN       []           NaN        NaN   \n",
       "4       0.0       NaN  Dyslexia        NaN       []           NaN        NaN   \n",
       "\n",
       "   trans_src trans_dest  \n",
       "0        NaN        NaN  \n",
       "1        NaN        NaN  \n",
       "2        NaN        NaN  \n",
       "3        NaN        NaN  \n",
       "4        NaN        NaN  \n",
       "\n",
       "[5 rows x 27 columns]"
      ]
     },
     "execution_count": 15,
     "metadata": {},
     "output_type": "execute_result"
    }
   ],
   "source": [
    "df.head()\n"
   ]
  },
  {
   "cell_type": "code",
   "execution_count": 16,
   "id": "1a9dab85-2226-4fd1-ab6f-87bcd3084a74",
   "metadata": {},
   "outputs": [
    {
     "name": "stdout",
     "output_type": "stream",
     "text": [
      "<class 'pandas.core.frame.DataFrame'>\n",
      "RangeIndex: 267814 entries, 0 to 267813\n",
      "Data columns (total 27 columns):\n",
      " #   Column        Non-Null Count   Dtype  \n",
      "---  ------        --------------   -----  \n",
      " 0   Unnamed: 0    267814 non-null  int64  \n",
      " 1   created_at    196119 non-null  object \n",
      " 2   date          196119 non-null  object \n",
      " 3   timezone      196119 non-null  float64\n",
      " 4   tweet         196119 non-null  object \n",
      " 5   language      125609 non-null  object \n",
      " 6   hashtags      125609 non-null  object \n",
      " 7   cashtags      125609 non-null  object \n",
      " 8   day           125609 non-null  object \n",
      " 9   hour          125609 non-null  float64\n",
      " 10  link          125609 non-null  object \n",
      " 11  urls          125609 non-null  object \n",
      " 12  photos        125590 non-null  object \n",
      " 13  video         125609 non-null  object \n",
      " 14  thumbnail     14562 non-null   object \n",
      " 15  retweet       125590 non-null  object \n",
      " 16  nlikes        125590 non-null  float64\n",
      " 17  nreplies      125590 non-null  float64\n",
      " 18  nretweets     125590 non-null  float64\n",
      " 19  quote_url     4802 non-null    object \n",
      " 20  search        125609 non-null  object \n",
      " 21  retweet_id    0 non-null       float64\n",
      " 22  reply_to      125590 non-null  object \n",
      " 23  retweet_date  0 non-null       float64\n",
      " 24  translate     0 non-null       float64\n",
      " 25  trans_src     0 non-null       float64\n",
      " 26  trans_dest    0 non-null       float64\n",
      "dtypes: float64(10), int64(1), object(16)\n",
      "memory usage: 55.2+ MB\n"
     ]
    }
   ],
   "source": [
    "df.info()\n"
   ]
  },
  {
   "cell_type": "code",
   "execution_count": 17,
   "id": "a28eb8c2-7941-4b04-b3db-b5de180dd52b",
   "metadata": {
    "tags": []
   },
   "outputs": [],
   "source": [
    "df = df.drop(columns=['Unnamed: 0', 'reply_to', 'retweet_id', 'translate', 'trans_src', 'trans_dest'])"
   ]
  },
  {
   "cell_type": "code",
   "execution_count": 18,
   "id": "a6263f14",
   "metadata": {},
   "outputs": [],
   "source": [
    "df = df.drop(columns=['photos', 'video', 'thumbnail', 'quote_url', 'search', 'urls', ])\n",
    "df = df.drop(columns=['retweet_date'])"
   ]
  },
  {
   "cell_type": "code",
   "execution_count": 19,
   "id": "a59e967c-2a62-4163-821a-943e5fe78df0",
   "metadata": {},
   "outputs": [],
   "source": [
    "list_of_stuff = df[df['tweet'].isnull()].index.tolist()"
   ]
  },
  {
   "cell_type": "code",
   "execution_count": 20,
   "id": "d8534e67-5b35-4c9d-a48a-1d94b518459c",
   "metadata": {},
   "outputs": [],
   "source": [
    "df = df.drop(list_of_stuff)"
   ]
  },
  {
   "cell_type": "code",
   "execution_count": 21,
   "id": "f30180f9-7fe1-486b-9c84-938931785f46",
   "metadata": {},
   "outputs": [
    {
     "name": "stdout",
     "output_type": "stream",
     "text": [
      "<class 'pandas.core.frame.DataFrame'>\n",
      "Int64Index: 196119 entries, 0 to 267813\n",
      "Data columns (total 14 columns):\n",
      " #   Column      Non-Null Count   Dtype  \n",
      "---  ------      --------------   -----  \n",
      " 0   created_at  196119 non-null  object \n",
      " 1   date        196119 non-null  object \n",
      " 2   timezone    196119 non-null  float64\n",
      " 3   tweet       196119 non-null  object \n",
      " 4   language    125609 non-null  object \n",
      " 5   hashtags    125609 non-null  object \n",
      " 6   cashtags    125609 non-null  object \n",
      " 7   day         125609 non-null  object \n",
      " 8   hour        125609 non-null  float64\n",
      " 9   link        125609 non-null  object \n",
      " 10  retweet     125590 non-null  object \n",
      " 11  nlikes      125590 non-null  float64\n",
      " 12  nreplies    125590 non-null  float64\n",
      " 13  nretweets   125590 non-null  float64\n",
      "dtypes: float64(5), object(9)\n",
      "memory usage: 22.4+ MB\n"
     ]
    }
   ],
   "source": [
    "df.info()"
   ]
  },
  {
   "cell_type": "code",
   "execution_count": 22,
   "id": "38712d5d-4310-4bf3-9108-16d1f7af8114",
   "metadata": {},
   "outputs": [
    {
     "name": "stdout",
     "output_type": "stream",
     "text": [
      "{530.0: 196100, 7.21e+17: 1, 756490298.0: 1, 96295751.0: 1, 1498115041.0: 1, 29566076.0: 1, 1.35e+18: 1, 52055276.0: 1, 2800367058.0: 1, 134681248.0: 1, 102420410.0: 1, 204416356.0: 1, 449957516.0: 1, 173631560.0: 1, 14549803.0: 1, 408604849.0: 2, 8.27e+17: 1, 19861106.0: 1, 582287390.0: 1}\n"
     ]
    }
   ],
   "source": [
    "timezones = {}\n",
    "for i in df['timezone']:\n",
    "    if i not in timezones:\n",
    "        timezones[i] = 1\n",
    "    else:\n",
    "        timezones[i] += 1\n",
    "        \n",
    "print(timezones)"
   ]
  },
  {
   "cell_type": "markdown",
   "id": "a0a2cac3",
   "metadata": {},
   "source": [
    "## Note the fact that the 530 timezone contains most of the tweets, Lets look at the languages too"
   ]
  },
  {
   "cell_type": "code",
   "execution_count": 25,
   "id": "a7bd04a2",
   "metadata": {
    "collapsed": true,
    "jupyter": {
     "outputs_hidden": true
    },
    "tags": []
   },
   "outputs": [
    {
     "name": "stdout",
     "output_type": "stream",
     "text": [
      "{'en': 116981, 'no': 91, 'cy': 1636, 'und': 1592, 'es': 344, 'ja': 314, 'ru': 13, 'in': 1245, 'tl': 193, 'zh': 8, 'ro': 209, 'da': 272, 'qme': 726, 'ar': 492, 'cs': 49, 'nl': 169, 'pl': 450, 'de': 42, 'fi': 101, 'ht': 27, 'qht': 115, 'el': 11, 'sv': 13, 'fr': 116, 'eu': 3, 'tr': 38, 'et': 12, 'hi': 4, 'lt': 7, 'is': 16, nan: 67779, '1': 2, 'zxx': 52, 'lv': 4, 'art': 8, 'qam': 38, 'fa': 7, 'ur': 1, 'qst': 10, 'it': 62, 'ko': 7, 'pt': 34, '4': 4, 'sl': 2, 'ca': 44, 'th': 19, '2': 5, '6': 3, 'uk': 2, 'ta': 1, 'ml': 1, 4.0: 1, nan: 1, nan: 1, nan: 1, nan: 1, nan: 1, nan: 1, nan: 1, nan: 1, nan: 1, nan: 1, nan: 1, nan: 1, nan: 1, nan: 1, nan: 1, nan: 1, nan: 1, nan: 1, nan: 1, nan: 1, nan: 1, nan: 1, nan: 1, nan: 1, nan: 1, nan: 1, nan: 1, nan: 1, nan: 1, nan: 1, nan: 1, nan: 1, nan: 1, nan: 1, nan: 1, nan: 1, nan: 1, nan: 1, nan: 1, nan: 1, nan: 1, nan: 1, nan: 1, nan: 1, nan: 1, nan: 1, nan: 1, nan: 1, nan: 1, nan: 1, nan: 1, nan: 1, nan: 1, nan: 1, nan: 1, nan: 1, nan: 1, nan: 1, nan: 1, nan: 1, nan: 1, nan: 1, nan: 1, nan: 1, nan: 1, nan: 1, nan: 1, nan: 1, nan: 1, nan: 1, nan: 1, nan: 1, nan: 1, nan: 1, nan: 1, nan: 1, nan: 1, nan: 1, nan: 1, nan: 1, nan: 1, nan: 1, nan: 1, nan: 1, nan: 1, nan: 1, nan: 1, nan: 1, nan: 1, nan: 1, nan: 1, nan: 1, nan: 1, nan: 1, nan: 1, nan: 1, nan: 1, nan: 1, nan: 1, nan: 1, nan: 1, nan: 1, nan: 1, nan: 1, nan: 1, nan: 1, nan: 1, nan: 1, nan: 1, nan: 1, nan: 1, nan: 1, nan: 1, nan: 1, nan: 1, nan: 1, nan: 1, nan: 1, nan: 1, nan: 1, nan: 1, nan: 1, nan: 1, nan: 1, nan: 1, nan: 1, nan: 1, nan: 1, nan: 1, nan: 1, nan: 1, nan: 1, nan: 1, nan: 1, nan: 1, nan: 1, nan: 1, nan: 1, nan: 1, nan: 1, nan: 1, nan: 1, nan: 1, nan: 1, nan: 1, nan: 1, nan: 1, nan: 1, nan: 1, nan: 1, nan: 1, nan: 1, nan: 1, nan: 1, nan: 1, nan: 1, nan: 1, nan: 1, nan: 1, nan: 1, nan: 1, nan: 1, nan: 1, nan: 1, nan: 1, nan: 1, nan: 1, nan: 1, nan: 1, nan: 1, nan: 1, nan: 1, nan: 1, nan: 1, nan: 1, nan: 1, nan: 1, nan: 1, nan: 1, nan: 1, nan: 1, nan: 1, nan: 1, nan: 1, nan: 1, nan: 1, nan: 1, nan: 1, nan: 1, nan: 1, nan: 1, nan: 1, nan: 1, nan: 1, nan: 1, nan: 1, nan: 1, nan: 1, nan: 1, nan: 1, nan: 1, nan: 1, nan: 1, nan: 1, nan: 1, nan: 1, nan: 1, nan: 1, nan: 1, nan: 1, nan: 1, nan: 1, nan: 1, nan: 1, nan: 1, nan: 1, nan: 1, nan: 1, nan: 1, nan: 1, nan: 1, nan: 1, nan: 1, nan: 1, nan: 1, nan: 1, nan: 1, nan: 1, nan: 1, nan: 1, nan: 1, nan: 1, nan: 1, nan: 1, nan: 1, nan: 1, nan: 1, nan: 1, nan: 1, nan: 1, nan: 1, nan: 1, nan: 1, nan: 1, nan: 1, nan: 1, nan: 1, nan: 1, nan: 1, nan: 1, nan: 1, nan: 1, nan: 1, nan: 1, nan: 1, nan: 1, nan: 1, nan: 1, nan: 1, nan: 1, nan: 1, nan: 1, nan: 1, nan: 1, nan: 1, nan: 1, nan: 1, nan: 1, nan: 1, nan: 1, nan: 1, nan: 1, nan: 1, nan: 1, nan: 1, nan: 1, nan: 1, nan: 1, nan: 1, nan: 1, nan: 1, nan: 1, nan: 1, nan: 1, nan: 1, nan: 1, nan: 1, nan: 1, nan: 1, nan: 1, nan: 1, nan: 1, nan: 1, nan: 1, nan: 1, nan: 1, nan: 1, nan: 1, nan: 1, nan: 1, nan: 1, nan: 1, nan: 1, nan: 1, nan: 1, nan: 1, nan: 1, nan: 1, nan: 1, nan: 1, nan: 1, nan: 1, nan: 1, nan: 1, nan: 1, nan: 1, nan: 1, nan: 1, nan: 1, nan: 1, nan: 1, nan: 1, nan: 1, nan: 1, nan: 1, nan: 1, nan: 1, nan: 1, nan: 1, nan: 1, nan: 1, nan: 1, nan: 1, nan: 1, nan: 1, nan: 1, nan: 1, nan: 1, nan: 1, nan: 1, nan: 1, nan: 1, nan: 1, nan: 1, nan: 1, nan: 1, nan: 1, nan: 1, nan: 1, nan: 1, nan: 1, nan: 1, nan: 1, nan: 1, nan: 1, nan: 1, nan: 1, nan: 1, nan: 1, nan: 1, nan: 1, nan: 1, nan: 1, nan: 1, nan: 1, nan: 1, nan: 1, nan: 1, nan: 1, nan: 1, nan: 1, nan: 1, nan: 1, nan: 1, nan: 1, nan: 1, nan: 1, nan: 1, nan: 1, nan: 1, nan: 1, nan: 1, nan: 1, nan: 1, nan: 1, nan: 1, nan: 1, nan: 1, nan: 1, nan: 1, nan: 1, nan: 1, nan: 1, nan: 1, nan: 1, nan: 1, nan: 1, nan: 1, nan: 1, nan: 1, nan: 1, nan: 1, nan: 1, nan: 1, nan: 1, nan: 1, nan: 1, nan: 1, nan: 1, nan: 1, nan: 1, nan: 1, nan: 1, nan: 1, nan: 1, nan: 1, nan: 1, nan: 1, nan: 1, nan: 1, nan: 1, nan: 1, nan: 1, nan: 1, nan: 1, nan: 1, nan: 1, nan: 1, nan: 1, nan: 1, nan: 1, nan: 1, nan: 1, nan: 1, nan: 1, nan: 1, nan: 1, nan: 1, nan: 1, nan: 1, nan: 1, nan: 1, nan: 1, nan: 1, nan: 1, nan: 1, nan: 1, nan: 1, nan: 1, nan: 1, nan: 1, nan: 1, nan: 1, nan: 1, nan: 1, nan: 1, nan: 1, nan: 1, nan: 1, nan: 1, nan: 1, nan: 1, nan: 1, nan: 1, nan: 1, nan: 1, nan: 1, nan: 1, nan: 1, nan: 1, nan: 1, nan: 1, nan: 1, nan: 1, nan: 1, nan: 1, nan: 1, nan: 1, nan: 1, nan: 1, nan: 1, nan: 1, nan: 1, nan: 1, nan: 1, nan: 1, nan: 1, nan: 1, nan: 1, nan: 1, nan: 1, nan: 1, nan: 1, nan: 1, nan: 1, nan: 1, nan: 1, nan: 1, nan: 1, nan: 1, nan: 1, nan: 1, nan: 1, nan: 1, nan: 1, nan: 1, nan: 1, nan: 1, nan: 1, nan: 1, nan: 1, nan: 1, nan: 1, nan: 1, nan: 1, nan: 1, nan: 1, nan: 1, nan: 1, nan: 1, nan: 1, nan: 1, nan: 1, nan: 1, nan: 1, nan: 1, nan: 1, nan: 1, nan: 1, nan: 1, nan: 1, nan: 1, nan: 1, nan: 1, nan: 1, nan: 1, nan: 1, nan: 1, nan: 1, nan: 1, nan: 1, nan: 1, nan: 1, nan: 1, nan: 1, nan: 1, nan: 1, nan: 1, nan: 1, nan: 1, nan: 1, nan: 1, nan: 1, nan: 1, nan: 1, nan: 1, nan: 1, nan: 1, nan: 1, nan: 1, nan: 1, nan: 1, nan: 1, nan: 1, nan: 1, nan: 1, nan: 1, nan: 1, nan: 1, nan: 1, nan: 1, nan: 1, nan: 1, nan: 1, nan: 1, nan: 1, nan: 1, nan: 1, nan: 1, nan: 1, nan: 1, nan: 1, nan: 1, nan: 1, nan: 1, nan: 1, nan: 1, nan: 1, nan: 1, nan: 1, nan: 1, nan: 1, nan: 1, nan: 1, nan: 1, nan: 1, nan: 1, nan: 1, nan: 1, nan: 1, nan: 1, nan: 1, nan: 1, nan: 1, nan: 1, nan: 1, nan: 1, nan: 1, nan: 1, nan: 1, nan: 1, nan: 1, nan: 1, nan: 1, nan: 1, nan: 1, nan: 1, nan: 1, nan: 1, nan: 1, nan: 1, nan: 1, nan: 1, nan: 1, nan: 1, nan: 1, nan: 1, nan: 1, nan: 1, nan: 1, nan: 1, nan: 1, nan: 1, nan: 1, nan: 1, nan: 1, nan: 1, nan: 1, nan: 1, nan: 1, nan: 1, nan: 1, nan: 1, nan: 1, nan: 1, nan: 1, nan: 1, nan: 1, nan: 1, nan: 1, nan: 1, nan: 1, nan: 1, nan: 1, nan: 1, nan: 1, nan: 1, nan: 1, nan: 1, nan: 1, nan: 1, nan: 1, nan: 1, nan: 1, nan: 1, nan: 1, nan: 1, nan: 1, nan: 1, nan: 1, nan: 1, nan: 1, nan: 1, nan: 1, nan: 1, nan: 1, nan: 1, nan: 1, nan: 1, nan: 1, nan: 1, nan: 1, nan: 1, nan: 1, nan: 1, nan: 1, nan: 1, nan: 1, nan: 1, nan: 1, nan: 1, nan: 1, nan: 1, nan: 1, nan: 1, nan: 1, nan: 1, nan: 1, nan: 1, nan: 1, nan: 1, nan: 1, nan: 1, nan: 1, nan: 1, nan: 1, nan: 1, nan: 1, nan: 1, nan: 1, nan: 1, nan: 1, nan: 1, nan: 1, nan: 1, nan: 1, nan: 1, nan: 1, nan: 1, nan: 1, nan: 1, nan: 1, nan: 1, nan: 1, nan: 1, nan: 1, nan: 1, nan: 1, nan: 1, nan: 1, nan: 1, nan: 1, nan: 1, nan: 1, nan: 1, nan: 1, nan: 1, nan: 1, nan: 1, nan: 1, nan: 1, nan: 1, nan: 1, nan: 1, nan: 1, nan: 1, nan: 1, nan: 1, nan: 1, nan: 1, nan: 1, nan: 1, nan: 1, nan: 1, nan: 1, nan: 1, nan: 1, nan: 1, nan: 1, nan: 1, nan: 1, nan: 1, nan: 1, nan: 1, nan: 1, nan: 1, nan: 1, nan: 1, nan: 1, nan: 1, nan: 1, nan: 1, nan: 1, nan: 1, nan: 1, nan: 1, nan: 1, nan: 1, nan: 1, nan: 1, nan: 1, nan: 1, nan: 1, nan: 1, nan: 1, nan: 1, nan: 1, nan: 1, nan: 1, nan: 1, nan: 1, nan: 1, nan: 1, nan: 1, nan: 1, nan: 1, nan: 1, nan: 1, nan: 1, nan: 1, nan: 1, nan: 1, nan: 1, nan: 1, nan: 1, nan: 1, nan: 1, nan: 1, nan: 1, nan: 1, nan: 1, nan: 1, nan: 1, nan: 1, nan: 1, nan: 1, nan: 1, nan: 1, nan: 1, nan: 1, nan: 1, nan: 1, nan: 1, nan: 1, nan: 1, nan: 1, nan: 1, nan: 1, nan: 1, nan: 1, nan: 1, nan: 1, nan: 1, nan: 1, nan: 1, nan: 1, nan: 1, nan: 1, nan: 1, nan: 1, nan: 1, nan: 1, nan: 1, nan: 1, nan: 1, nan: 1, nan: 1, nan: 1, nan: 1, nan: 1, nan: 1, nan: 1, nan: 1, nan: 1, nan: 1, nan: 1, nan: 1, nan: 1, nan: 1, nan: 1, nan: 1, nan: 1, nan: 1, nan: 1, nan: 1, nan: 1, nan: 1, nan: 1, nan: 1, nan: 1, nan: 1, nan: 1, nan: 1, nan: 1, nan: 1, nan: 1, nan: 1, nan: 1, nan: 1, nan: 1, nan: 1, nan: 1, nan: 1, nan: 1, nan: 1, nan: 1, nan: 1, nan: 1, nan: 1, nan: 1, nan: 1, nan: 1, nan: 1, nan: 1, nan: 1, nan: 1, nan: 1, nan: 1, nan: 1, nan: 1, nan: 1, nan: 1, nan: 1, nan: 1, nan: 1, nan: 1, nan: 1, nan: 1, nan: 1, nan: 1, nan: 1, nan: 1, nan: 1, nan: 1, nan: 1, nan: 1, nan: 1, nan: 1, nan: 1, nan: 1, nan: 1, nan: 1, nan: 1, nan: 1, nan: 1, nan: 1, nan: 1, nan: 1, nan: 1, nan: 1, nan: 1, nan: 1, nan: 1, nan: 1, nan: 1, nan: 1, nan: 1, nan: 1, nan: 1, nan: 1, nan: 1, nan: 1, nan: 1, nan: 1, nan: 1, nan: 1, nan: 1, nan: 1, nan: 1, nan: 1, nan: 1, nan: 1, nan: 1, nan: 1, nan: 1, nan: 1, nan: 1, nan: 1, nan: 1, nan: 1, nan: 1, nan: 1, nan: 1, nan: 1, nan: 1, nan: 1, nan: 1, nan: 1, nan: 1, nan: 1, nan: 1, nan: 1, nan: 1, nan: 1, nan: 1, nan: 1, nan: 1, nan: 1, nan: 1, nan: 1, nan: 1, nan: 1, nan: 1, nan: 1, nan: 1, nan: 1, nan: 1, nan: 1, nan: 1, nan: 1, nan: 1, nan: 1, nan: 1, nan: 1, nan: 1, nan: 1, nan: 1, nan: 1, nan: 1, nan: 1, nan: 1, nan: 1, nan: 1, nan: 1, nan: 1, nan: 1, nan: 1, nan: 1, nan: 1, nan: 1, nan: 1, nan: 1, nan: 1, nan: 1, nan: 1, nan: 1, nan: 1, nan: 1, nan: 1, nan: 1, nan: 1, nan: 1, nan: 1, nan: 1, nan: 1, nan: 1, nan: 1, nan: 1, nan: 1, nan: 1, nan: 1, nan: 1, nan: 1, nan: 1, nan: 1, nan: 1, nan: 1, nan: 1, nan: 1, nan: 1, nan: 1, nan: 1, nan: 1, nan: 1, nan: 1, nan: 1, nan: 1, nan: 1, nan: 1, nan: 1, nan: 1, nan: 1, nan: 1, nan: 1, nan: 1, nan: 1, nan: 1, nan: 1, nan: 1, nan: 1, nan: 1, nan: 1, nan: 1, nan: 1, nan: 1, nan: 1, nan: 1, nan: 1, nan: 1, nan: 1, nan: 1, nan: 1, nan: 1, nan: 1, nan: 1, nan: 1, nan: 1, nan: 1, nan: 1, nan: 1, nan: 1, nan: 1, nan: 1, nan: 1, nan: 1, nan: 1, nan: 1, nan: 1, nan: 1, nan: 1, nan: 1, nan: 1, nan: 1, nan: 1, nan: 1, nan: 1, nan: 1, nan: 1, nan: 1, nan: 1, nan: 1, nan: 1, nan: 1, nan: 1, nan: 1, nan: 1, nan: 1, nan: 1, nan: 1, nan: 1, nan: 1, nan: 1, nan: 1, nan: 1, nan: 1, nan: 1, nan: 1, nan: 1, nan: 1, nan: 1, nan: 1, nan: 1, nan: 1, nan: 1, nan: 1, nan: 1, nan: 1, nan: 1, nan: 1, nan: 1, nan: 1, nan: 1, nan: 1, nan: 1, nan: 1, nan: 1, nan: 1, nan: 1, nan: 1, nan: 1, nan: 1, nan: 1, nan: 1, nan: 1, nan: 1, nan: 1, nan: 1, nan: 1, nan: 1, nan: 1, nan: 1, nan: 1, nan: 1, nan: 1, nan: 1, nan: 1, nan: 1, nan: 1, nan: 1, nan: 1, nan: 1, nan: 1, nan: 1, nan: 1, nan: 1, nan: 1, nan: 1, nan: 1, nan: 1, nan: 1, nan: 1, nan: 1, nan: 1, nan: 1, nan: 1, nan: 1, nan: 1, nan: 1, nan: 1, nan: 1, nan: 1, nan: 1, nan: 1, nan: 1, nan: 1, nan: 1, nan: 1, nan: 1, nan: 1, nan: 1, nan: 1, nan: 1, nan: 1, nan: 1, nan: 1, nan: 1, nan: 1, nan: 1, nan: 1, nan: 1, nan: 1, nan: 1, nan: 1, nan: 1, nan: 1, nan: 1, nan: 1, nan: 1, nan: 1, nan: 1, nan: 1, nan: 1, nan: 1, nan: 1, nan: 1, nan: 1, nan: 1, nan: 1, nan: 1, nan: 1, nan: 1, nan: 1, nan: 1, nan: 1, nan: 1, nan: 1, nan: 1, nan: 1, nan: 1, nan: 1, nan: 1, nan: 1, nan: 1, nan: 1, nan: 1, nan: 1, nan: 1, nan: 1, nan: 1, nan: 1, nan: 1, nan: 1, nan: 1, nan: 1, nan: 1, nan: 1, nan: 1, nan: 1, nan: 1, nan: 1, nan: 1, nan: 1, nan: 1, nan: 1, nan: 1, nan: 1, nan: 1, nan: 1, nan: 1, nan: 1, nan: 1, nan: 1, nan: 1, nan: 1, nan: 1, nan: 1, nan: 1, nan: 1, nan: 1, nan: 1, nan: 1, nan: 1, nan: 1, nan: 1, nan: 1, nan: 1, nan: 1, nan: 1, nan: 1, nan: 1, nan: 1, nan: 1, nan: 1, nan: 1, nan: 1, nan: 1, nan: 1, nan: 1, nan: 1, nan: 1, nan: 1, nan: 1, nan: 1, nan: 1, nan: 1, nan: 1, nan: 1, nan: 1, nan: 1, nan: 1, nan: 1, nan: 1, nan: 1, nan: 1, nan: 1, nan: 1, nan: 1, nan: 1, nan: 1, nan: 1, nan: 1, nan: 1, nan: 1, nan: 1, nan: 1, nan: 1, nan: 1, nan: 1, nan: 1, nan: 1, nan: 1, nan: 1, nan: 1, nan: 1, nan: 1, nan: 1, nan: 1, nan: 1, nan: 1, nan: 1, nan: 1, nan: 1, nan: 1, nan: 1, nan: 1, nan: 1, nan: 1, nan: 1, nan: 1, nan: 1, nan: 1, nan: 1, nan: 1, nan: 1, nan: 1, nan: 1, nan: 1, nan: 1, nan: 1, nan: 1, nan: 1, nan: 1, nan: 1, nan: 1, nan: 1, nan: 1, nan: 1, nan: 1, nan: 1, nan: 1, nan: 1, nan: 1, nan: 1, nan: 1, nan: 1, nan: 1, nan: 1, nan: 1, nan: 1, nan: 1, nan: 1, nan: 1, nan: 1, nan: 1, nan: 1, nan: 1, nan: 1, nan: 1, nan: 1, nan: 1, nan: 1, nan: 1, nan: 1, nan: 1, nan: 1, nan: 1, nan: 1, nan: 1, nan: 1, nan: 1, nan: 1, nan: 1, nan: 1, nan: 1, nan: 1, nan: 1, nan: 1, nan: 1, nan: 1, nan: 1, nan: 1, nan: 1, nan: 1, nan: 1, nan: 1, nan: 1, nan: 1, nan: 1, nan: 1, nan: 1, nan: 1, nan: 1, nan: 1, nan: 1, nan: 1, nan: 1, nan: 1, nan: 1, nan: 1, nan: 1, nan: 1, nan: 1, nan: 1, nan: 1, nan: 1, nan: 1, nan: 1, nan: 1, nan: 1, nan: 1, nan: 1, nan: 1, nan: 1, nan: 1, nan: 1, nan: 1, nan: 1, nan: 1, nan: 1, nan: 1, nan: 1, nan: 1, nan: 1, nan: 1, nan: 1, nan: 1, nan: 1, nan: 1, nan: 1, nan: 1, nan: 1, nan: 1, nan: 1, nan: 1, nan: 1, nan: 1, nan: 1, nan: 1, nan: 1, nan: 1, nan: 1, nan: 1, nan: 1, nan: 1, nan: 1, nan: 1, nan: 1, nan: 1, nan: 1, nan: 1, nan: 1, nan: 1, nan: 1, nan: 1, nan: 1, nan: 1, nan: 1, nan: 1, nan: 1, nan: 1, nan: 1, nan: 1, nan: 1, nan: 1, nan: 1, nan: 1, nan: 1, nan: 1, nan: 1, nan: 1, nan: 1, nan: 1, nan: 1, nan: 1, nan: 1, nan: 1, nan: 1, nan: 1, nan: 1, nan: 1, nan: 1, nan: 1, nan: 1, nan: 1, nan: 1, nan: 1, nan: 1, nan: 1, nan: 1, nan: 1, nan: 1, nan: 1, nan: 1, nan: 1, nan: 1, nan: 1, nan: 1, nan: 1, nan: 1, nan: 1, nan: 1, nan: 1, nan: 1, nan: 1, nan: 1, nan: 1, nan: 1, nan: 1, nan: 1, nan: 1, nan: 1, nan: 1, nan: 1, nan: 1, nan: 1, nan: 1, nan: 1, nan: 1, nan: 1, nan: 1, nan: 1, nan: 1, nan: 1, nan: 1, nan: 1, nan: 1, nan: 1, nan: 1, nan: 1, nan: 1, nan: 1, nan: 1, nan: 1, nan: 1, nan: 1, nan: 1, nan: 1, nan: 1, nan: 1, nan: 1, nan: 1, nan: 1, nan: 1, nan: 1, nan: 1, nan: 1, nan: 1, nan: 1, nan: 1, nan: 1, nan: 1, nan: 1, nan: 1, nan: 1, nan: 1, nan: 1, nan: 1, nan: 1, nan: 1, nan: 1, nan: 1, nan: 1, nan: 1, nan: 1, nan: 1, nan: 1, nan: 1, nan: 1, nan: 1, nan: 1, nan: 1, nan: 1, nan: 1, nan: 1, nan: 1, nan: 1, nan: 1, nan: 1, nan: 1, nan: 1, nan: 1, nan: 1, nan: 1, nan: 1, nan: 1, nan: 1, nan: 1, nan: 1, nan: 1, nan: 1, nan: 1, nan: 1, nan: 1, nan: 1, nan: 1, nan: 1, nan: 1, nan: 1, nan: 1, nan: 1, nan: 1, nan: 1, nan: 1, nan: 1, nan: 1, nan: 1, nan: 1, nan: 1, nan: 1, nan: 1, nan: 1, nan: 1, nan: 1, nan: 1, nan: 1, nan: 1, nan: 1, nan: 1, nan: 1, nan: 1, nan: 1, nan: 1, nan: 1, nan: 1, nan: 1, nan: 1, nan: 1, nan: 1, nan: 1, nan: 1, nan: 1, nan: 1, nan: 1, nan: 1, nan: 1, nan: 1, nan: 1, nan: 1, nan: 1, nan: 1, nan: 1, nan: 1, nan: 1, nan: 1, nan: 1, nan: 1, nan: 1, nan: 1, nan: 1, nan: 1, nan: 1, nan: 1, nan: 1, nan: 1, nan: 1, nan: 1, nan: 1, nan: 1, nan: 1, nan: 1, nan: 1, nan: 1, nan: 1, nan: 1, nan: 1, nan: 1, nan: 1, nan: 1, nan: 1, nan: 1, nan: 1, nan: 1, nan: 1, nan: 1, nan: 1, nan: 1, nan: 1, nan: 1, nan: 1, nan: 1, nan: 1, nan: 1, nan: 1, nan: 1, nan: 1, nan: 1, nan: 1, nan: 1, nan: 1, nan: 1, nan: 1, nan: 1, nan: 1, nan: 1, nan: 1, nan: 1, nan: 1, nan: 1, nan: 1, nan: 1, nan: 1, nan: 1, nan: 1, nan: 1, nan: 1, nan: 1, nan: 1, nan: 1, nan: 1, nan: 1, nan: 1, nan: 1, nan: 1, nan: 1, nan: 1, nan: 1, nan: 1, nan: 1, nan: 1, nan: 1, nan: 1, nan: 1, nan: 1, nan: 1, nan: 1, nan: 1, nan: 1, nan: 1, nan: 1, nan: 1, nan: 1, nan: 1, nan: 1, nan: 1, nan: 1, nan: 1, nan: 1, nan: 1, nan: 1, nan: 1, nan: 1, nan: 1, nan: 1, nan: 1, nan: 1, nan: 1, nan: 1, nan: 1, nan: 1, nan: 1, nan: 1, nan: 1, nan: 1, nan: 1, nan: 1, nan: 1, nan: 1, nan: 1, nan: 1, nan: 1, nan: 1, nan: 1, nan: 1, nan: 1, nan: 1, nan: 1, nan: 1, nan: 1, nan: 1, nan: 1, nan: 1, nan: 1, nan: 1, nan: 1, nan: 1, nan: 1, nan: 1, nan: 1, nan: 1, nan: 1, nan: 1, nan: 1, nan: 1, nan: 1, nan: 1, nan: 1, nan: 1, nan: 1, nan: 1, nan: 1, nan: 1, nan: 1, nan: 1, nan: 1, nan: 1, nan: 1, nan: 1, nan: 1, nan: 1, nan: 1, nan: 1, nan: 1, nan: 1, nan: 1, nan: 1, nan: 1, nan: 1, nan: 1, nan: 1, nan: 1, nan: 1, nan: 1, nan: 1, nan: 1, nan: 1, nan: 1, nan: 1, nan: 1, nan: 1, nan: 1, nan: 1, nan: 1, nan: 1, nan: 1, nan: 1, nan: 1, nan: 1, nan: 1, nan: 1, nan: 1, nan: 1, nan: 1, nan: 1, nan: 1, nan: 1, nan: 1, nan: 1, nan: 1, nan: 1, nan: 1, nan: 1, nan: 1, nan: 1, nan: 1, nan: 1, nan: 1, nan: 1, nan: 1, nan: 1, nan: 1, nan: 1, nan: 1, nan: 1, nan: 1, nan: 1, nan: 1, nan: 1, nan: 1, nan: 1, nan: 1, nan: 1, nan: 1, nan: 1, nan: 1, nan: 1, nan: 1, nan: 1, nan: 1, nan: 1, nan: 1, nan: 1, nan: 1, nan: 1, nan: 1, nan: 1, nan: 1, nan: 1, nan: 1, nan: 1, nan: 1, nan: 1, nan: 1, nan: 1, nan: 1, nan: 1, nan: 1, nan: 1, nan: 1, nan: 1, nan: 1, nan: 1, nan: 1, nan: 1, nan: 1, nan: 1, nan: 1, nan: 1, nan: 1, nan: 1, nan: 1, nan: 1, nan: 1, nan: 1, nan: 1, nan: 1, nan: 1, nan: 1, nan: 1, nan: 1, nan: 1, nan: 1, nan: 1, nan: 1, nan: 1, nan: 1, nan: 1, nan: 1, nan: 1, nan: 1, nan: 1, nan: 1, nan: 1, nan: 1, nan: 1, nan: 1, nan: 1, nan: 1, nan: 1, nan: 1, nan: 1, nan: 1, nan: 1, nan: 1, nan: 1, nan: 1, nan: 1, nan: 1, nan: 1, nan: 1, nan: 1, nan: 1, nan: 1, nan: 1, nan: 1, nan: 1, nan: 1, nan: 1, nan: 1, nan: 1, nan: 1, nan: 1, nan: 1, nan: 1, nan: 1, nan: 1, nan: 1, nan: 1, nan: 1, nan: 1, nan: 1, nan: 1, nan: 1, nan: 1, nan: 1, nan: 1, nan: 1, nan: 1, nan: 1, nan: 1, nan: 1, nan: 1, nan: 1, nan: 1, nan: 1, nan: 1, nan: 1, nan: 1, nan: 1, nan: 1, nan: 1, nan: 1, nan: 1, nan: 1, nan: 1, nan: 1, nan: 1, nan: 1, nan: 1, nan: 1, nan: 1, nan: 1, nan: 1, nan: 1, nan: 1, nan: 1, nan: 1, nan: 1, nan: 1, nan: 1, nan: 1, nan: 1, nan: 1, nan: 1, nan: 1, nan: 1, nan: 1, nan: 1, nan: 1, nan: 1, nan: 1, nan: 1, nan: 1, nan: 1, nan: 1, nan: 1, nan: 1, nan: 1, nan: 1, nan: 1, nan: 1, nan: 1, nan: 1, nan: 1, nan: 1, nan: 1, nan: 1, nan: 1, nan: 1, nan: 1, nan: 1, nan: 1, nan: 1, nan: 1, nan: 1, nan: 1, nan: 1, nan: 1, nan: 1, nan: 1, nan: 1, nan: 1, nan: 1, nan: 1, nan: 1, nan: 1, nan: 1, nan: 1, nan: 1, nan: 1, nan: 1, nan: 1, nan: 1, nan: 1, nan: 1, nan: 1, nan: 1, nan: 1, nan: 1, nan: 1, nan: 1, nan: 1, nan: 1, nan: 1, nan: 1, nan: 1, nan: 1, nan: 1, nan: 1, nan: 1, nan: 1, nan: 1, nan: 1, nan: 1, nan: 1, nan: 1, nan: 1, nan: 1, nan: 1, nan: 1, nan: 1, nan: 1, nan: 1, nan: 1, nan: 1, nan: 1, nan: 1, nan: 1, nan: 1, nan: 1, nan: 1, nan: 1, nan: 1, nan: 1, nan: 1, nan: 1, nan: 1, nan: 1, nan: 1, nan: 1, nan: 1, nan: 1, nan: 1, nan: 1, nan: 1, nan: 1, nan: 1, nan: 1, nan: 1, nan: 1, nan: 1, nan: 1, nan: 1, nan: 1, nan: 1, nan: 1, nan: 1, nan: 1, nan: 1, nan: 1, nan: 1, nan: 1, nan: 1, nan: 1, nan: 1, nan: 1, nan: 1, nan: 1, nan: 1, nan: 1, nan: 1, nan: 1, nan: 1, nan: 1, nan: 1, nan: 1, nan: 1, nan: 1, nan: 1, nan: 1, nan: 1, nan: 1, nan: 1, nan: 1, nan: 1, nan: 1, nan: 1, nan: 1, nan: 1, nan: 1, nan: 1, nan: 1, nan: 1, nan: 1, nan: 1, nan: 1, nan: 1, nan: 1, nan: 1, nan: 1, nan: 1, nan: 1, nan: 1, nan: 1, nan: 1, nan: 1, nan: 1, nan: 1, nan: 1, nan: 1, nan: 1, nan: 1, nan: 1, nan: 1, nan: 1, nan: 1, nan: 1, nan: 1, nan: 1, nan: 1, nan: 1, nan: 1, nan: 1, nan: 1, nan: 1, nan: 1, nan: 1, nan: 1, nan: 1, nan: 1, nan: 1, nan: 1, nan: 1, nan: 1, nan: 1, nan: 1, nan: 1, nan: 1, nan: 1, nan: 1, nan: 1, nan: 1, nan: 1, nan: 1, nan: 1, nan: 1, nan: 1, nan: 1, nan: 1, nan: 1, nan: 1, nan: 1, nan: 1, nan: 1, nan: 1, nan: 1, nan: 1, nan: 1, nan: 1, nan: 1, nan: 1, nan: 1, nan: 1, nan: 1, nan: 1, nan: 1, nan: 1, nan: 1, nan: 1, nan: 1, nan: 1, nan: 1, nan: 1, nan: 1, nan: 1, nan: 1, nan: 1, nan: 1, nan: 1, nan: 1, nan: 1, nan: 1, nan: 1, nan: 1, nan: 1, nan: 1, nan: 1, nan: 1, nan: 1, nan: 1, nan: 1, nan: 1, nan: 1, nan: 1, nan: 1, nan: 1, nan: 1, nan: 1, nan: 1, nan: 1, nan: 1, nan: 1, nan: 1, nan: 1, nan: 1, nan: 1, nan: 1, nan: 1, nan: 1, nan: 1, nan: 1, nan: 1, nan: 1, nan: 1, nan: 1, nan: 1, nan: 1, nan: 1, nan: 1, nan: 1, nan: 1, nan: 1, nan: 1, nan: 1, nan: 1, nan: 1, nan: 1, nan: 1, nan: 1, nan: 1, nan: 1, nan: 1, nan: 1, nan: 1, nan: 1, nan: 1, nan: 1, nan: 1, nan: 1, nan: 1, nan: 1, nan: 1, nan: 1, nan: 1, nan: 1, nan: 1, nan: 1, nan: 1, nan: 1, nan: 1, nan: 1, nan: 1, nan: 1, nan: 1, nan: 1, nan: 1, nan: 1, nan: 1, nan: 1, nan: 1, nan: 1, nan: 1, nan: 1, nan: 1, nan: 1, nan: 1, nan: 1, nan: 1, nan: 1, nan: 1, nan: 1, nan: 1, nan: 1, nan: 1, nan: 1, nan: 1, nan: 1, nan: 1, nan: 1, nan: 1, nan: 1, nan: 1, nan: 1, nan: 1, nan: 1, nan: 1, nan: 1, nan: 1, nan: 1, nan: 1, nan: 1, nan: 1, nan: 1, nan: 1, nan: 1, nan: 1, nan: 1, nan: 1, nan: 1, nan: 1, nan: 1, nan: 1, nan: 1, nan: 1, nan: 1, nan: 1, nan: 1, nan: 1, nan: 1, nan: 1, nan: 1, nan: 1, nan: 1, nan: 1, nan: 1, nan: 1, nan: 1, nan: 1, nan: 1, nan: 1, nan: 1, nan: 1, nan: 1, nan: 1, nan: 1, nan: 1, nan: 1, nan: 1, nan: 1, nan: 1, nan: 1, nan: 1, nan: 1, nan: 1, nan: 1, nan: 1, nan: 1, nan: 1, nan: 1, nan: 1, nan: 1, nan: 1, nan: 1, nan: 1, nan: 1, nan: 1, nan: 1, nan: 1, nan: 1, nan: 1, nan: 1, nan: 1, nan: 1, nan: 1, nan: 1, nan: 1, nan: 1, nan: 1, nan: 1, nan: 1, nan: 1, nan: 1, nan: 1, nan: 1, nan: 1, nan: 1, nan: 1, nan: 1, nan: 1, nan: 1, nan: 1, nan: 1, nan: 1, nan: 1, nan: 1, nan: 1, nan: 1, nan: 1, nan: 1, nan: 1, nan: 1, nan: 1, nan: 1, nan: 1, nan: 1, nan: 1, nan: 1, nan: 1, nan: 1, nan: 1, nan: 1, nan: 1, nan: 1, nan: 1, nan: 1, nan: 1, nan: 1, nan: 1, nan: 1, nan: 1, nan: 1, nan: 1, nan: 1, nan: 1, nan: 1, nan: 1, nan: 1, nan: 1, nan: 1, nan: 1, nan: 1, nan: 1, nan: 1, nan: 1, nan: 1, nan: 1, nan: 1, nan: 1, nan: 1, nan: 1, nan: 1, nan: 1, nan: 1, nan: 1, nan: 1, nan: 1, nan: 1, nan: 1, nan: 1, nan: 1, nan: 1, nan: 1, nan: 1, nan: 1, nan: 1, nan: 1, nan: 1, nan: 1, nan: 1, nan: 1, nan: 1, nan: 1, nan: 1, nan: 1, nan: 1, nan: 1, nan: 1, nan: 1, nan: 1, nan: 1, nan: 1, nan: 1, nan: 1, nan: 1, nan: 1, nan: 1, nan: 1, nan: 1, nan: 1, nan: 1, nan: 1, nan: 1, nan: 1, nan: 1, nan: 1, nan: 1, nan: 1, nan: 1, nan: 1, nan: 1, nan: 1, nan: 1, nan: 1, nan: 1, nan: 1, nan: 1, nan: 1, nan: 1, nan: 1, nan: 1, nan: 1, nan: 1, nan: 1, nan: 1, nan: 1, nan: 1, nan: 1, nan: 1, nan: 1, nan: 1, nan: 1, nan: 1, nan: 1, nan: 1, nan: 1, nan: 1, nan: 1, nan: 1, nan: 1, nan: 1, nan: 1, nan: 1, nan: 1, nan: 1, nan: 1, nan: 1, nan: 1, nan: 1, nan: 1, nan: 1, nan: 1, nan: 1, nan: 1, nan: 1, nan: 1, nan: 1, nan: 1, nan: 1, nan: 1, nan: 1, nan: 1, nan: 1, nan: 1, nan: 1, nan: 1, nan: 1, nan: 1, nan: 1, nan: 1, nan: 1, nan: 1, nan: 1, nan: 1, nan: 1, nan: 1, nan: 1, nan: 1, nan: 1, nan: 1, nan: 1, nan: 1, nan: 1, nan: 1, nan: 1, nan: 1, nan: 1, nan: 1, nan: 1, nan: 1, nan: 1, nan: 1, nan: 1, nan: 1, nan: 1, nan: 1, nan: 1, nan: 1, nan: 1, nan: 1, nan: 1, nan: 1, nan: 1, nan: 1, nan: 1, nan: 1, nan: 1, nan: 1, nan: 1, nan: 1, nan: 1, nan: 1, nan: 1, nan: 1, nan: 1, nan: 1, nan: 1, nan: 1, nan: 1, nan: 1, nan: 1, nan: 1, nan: 1, nan: 1, nan: 1, nan: 1, nan: 1, nan: 1, nan: 1, nan: 1, nan: 1, nan: 1, nan: 1, nan: 1, nan: 1, nan: 1, nan: 1, nan: 1, nan: 1, nan: 1, nan: 1, nan: 1, nan: 1, nan: 1, nan: 1, nan: 1, nan: 1, nan: 1, nan: 1, nan: 1, nan: 1, nan: 1, nan: 1, nan: 1, nan: 1, nan: 1, nan: 1, nan: 1, nan: 1, nan: 1, nan: 1, nan: 1, nan: 1, nan: 1, nan: 1, nan: 1, nan: 1, nan: 1, nan: 1, nan: 1, nan: 1, nan: 1, nan: 1, nan: 1, nan: 1, nan: 1, nan: 1, nan: 1, nan: 1, nan: 1, nan: 1, nan: 1, nan: 1, nan: 1, nan: 1, nan: 1, nan: 1, nan: 1, nan: 1, nan: 1, nan: 1, nan: 1, nan: 1, 'hu': 7, '5': 3, '7': 1, 'vi': 1, 'bn': 1}\n"
     ]
    }
   ],
   "source": [
    "languages = {}\n",
    "for i in df['language']:\n",
    "    if i not in languages:\n",
    "        languages[i] = 1\n",
    "    else:\n",
    "        languages[i] += 1\n",
    "        \n",
    "print(languages)\n",
    "\n"
   ]
  },
  {
   "cell_type": "markdown",
   "id": "30f72888",
   "metadata": {
    "jupyter": {
     "source_hidden": true
    },
    "tags": []
   },
   "source": [
    "## Since this analysis mostly focuses on english tweets, we can drop all the other non english tweets, this shouldnt really be problematic since the majority of the tweets are written in English\n"
   ]
  },
  {
   "cell_type": "code",
   "execution_count": 27,
   "id": "30958072",
   "metadata": {},
   "outputs": [
    {
     "data": {
      "text/plain": [
       "array(['en', 'no', 'cy', 'und', 'es', 'ja', 'ru', 'in', 'tl', 'zh', 'ro',\n",
       "       'da', 'qme', 'ar', 'cs', 'nl', 'pl', 'de', 'fi', 'ht', 'qht', 'el',\n",
       "       'sv', 'fr', 'eu', 'tr', 'et', 'hi', 'lt', 'is', nan, '1', 'zxx',\n",
       "       'lv', 'art', 'qam', 'fa', 'ur', 'qst', 'it', 'ko', 'pt', '4', 'sl',\n",
       "       'ca', 'th', '2', '6', 'uk', 'ta', 'ml', 4.0, 'hu', '5', '7', 'vi',\n",
       "       'bn'], dtype=object)"
      ]
     },
     "execution_count": 27,
     "metadata": {},
     "output_type": "execute_result"
    }
   ],
   "source": [
    "# Testing whether only tweets related to english is present\n",
    "df['language'].unique()"
   ]
  },
  {
   "cell_type": "code",
   "execution_count": 28,
   "id": "26cd2f4d",
   "metadata": {},
   "outputs": [],
   "source": [
    "final_df = df.drop(df[df['language'] != 'en'].index)"
   ]
  },
  {
   "cell_type": "code",
   "execution_count": 29,
   "id": "17454241",
   "metadata": {},
   "outputs": [
    {
     "name": "stdout",
     "output_type": "stream",
     "text": [
      "<class 'pandas.core.frame.DataFrame'>\n",
      "Int64Index: 116981 entries, 0 to 267813\n",
      "Data columns (total 14 columns):\n",
      " #   Column      Non-Null Count   Dtype  \n",
      "---  ------      --------------   -----  \n",
      " 0   created_at  116981 non-null  object \n",
      " 1   date        116981 non-null  object \n",
      " 2   timezone    116981 non-null  float64\n",
      " 3   tweet       116981 non-null  object \n",
      " 4   language    116981 non-null  object \n",
      " 5   hashtags    116981 non-null  object \n",
      " 6   cashtags    116981 non-null  object \n",
      " 7   day         116981 non-null  object \n",
      " 8   hour        116981 non-null  float64\n",
      " 9   link        116981 non-null  object \n",
      " 10  retweet     116981 non-null  object \n",
      " 11  nlikes      116981 non-null  float64\n",
      " 12  nreplies    116981 non-null  float64\n",
      " 13  nretweets   116981 non-null  float64\n",
      "dtypes: float64(5), object(9)\n",
      "memory usage: 13.4+ MB\n"
     ]
    }
   ],
   "source": [
    "final_df.info()"
   ]
  },
  {
   "cell_type": "code",
   "execution_count": 30,
   "id": "1602575b",
   "metadata": {},
   "outputs": [],
   "source": [
    "final_df = final_df.reset_index()"
   ]
  },
  {
   "cell_type": "code",
   "execution_count": 32,
   "id": "2b6724a4",
   "metadata": {},
   "outputs": [],
   "source": [
    "first_half_date = []\n",
    "second_half_date = []\n",
    "for i in range(len(final_df['date'])):\n",
    "    if i <= 49341:\n",
    "        first_half_date.append(final_df['date'][i])\n",
    "    else:\n",
    "        second_half_date.append(final_df['date'][i])\n",
    "    \n",
    "    \n"
   ]
  },
  {
   "cell_type": "code",
   "execution_count": 33,
   "id": "c871e6d9",
   "metadata": {},
   "outputs": [
    {
     "name": "stdout",
     "output_type": "stream",
     "text": [
      "49342\n",
      "39100\n",
      "67639\n",
      "60751\n"
     ]
    }
   ],
   "source": [
    "print(len((first_half_date)))\n",
    "print(len(set(first_half_date)))\n",
    "print(len((second_half_date)))\n",
    "print(len(set(second_half_date)))"
   ]
  },
  {
   "cell_type": "code",
   "execution_count": 34,
   "id": "897a9842",
   "metadata": {},
   "outputs": [],
   "source": [
    "stop_words = set(stopwords.words('english'))"
   ]
  },
  {
   "cell_type": "code",
   "execution_count": 36,
   "id": "980096e0",
   "metadata": {
    "collapsed": true,
    "jupyter": {
     "outputs_hidden": true
    },
    "tags": []
   },
   "outputs": [
    {
     "name": "stderr",
     "output_type": "stream",
     "text": [
      "<ipython-input-36-2d7b42c1cd16>:2: SettingWithCopyWarning: \n",
      "A value is trying to be set on a copy of a slice from a DataFrame\n",
      "\n",
      "See the caveats in the documentation: https://pandas.pydata.org/pandas-docs/stable/user_guide/indexing.html#returning-a-view-versus-a-copy\n",
      "  final_df['tweet'][i] = re.sub(r'^https?:\\/\\/.*[\\r\\n]*', '', final_df['tweet'][i], flags=re.MULTILINE)\n",
      "<ipython-input-36-2d7b42c1cd16>:6: SettingWithCopyWarning: \n",
      "A value is trying to be set on a copy of a slice from a DataFrame\n",
      "\n",
      "See the caveats in the documentation: https://pandas.pydata.org/pandas-docs/stable/user_guide/indexing.html#returning-a-view-versus-a-copy\n",
      "  final_df['tweet'][i] = ' '.join(filtered_sentence)\n"
     ]
    }
   ],
   "source": [
    "for i in range(len(final_df['tweet'])):\n",
    "    final_df['tweet'][i] = re.sub(r'^https?:\\/\\/.*[\\r\\n]*', '', final_df['tweet'][i], flags=re.MULTILINE)\n",
    "    word_token = word_tokenize(final_df['tweet'][i])\n",
    "    filtered_sentence = [w.lower() for w in word_token if not w.lower() in stop_words]\n",
    "    filtered_sentence = [lemmatizer.lemmatize(word) for word in filtered_sentence]\n",
    "    final_df['tweet'][i] = ' '.join(filtered_sentence)\n",
    "\n",
    "    \n",
    "    "
   ]
  },
  {
   "cell_type": "code",
   "execution_count": 37,
   "id": "7903d12f",
   "metadata": {},
   "outputs": [
    {
     "data": {
      "text/html": [
       "<div>\n",
       "<style scoped>\n",
       "    .dataframe tbody tr th:only-of-type {\n",
       "        vertical-align: middle;\n",
       "    }\n",
       "\n",
       "    .dataframe tbody tr th {\n",
       "        vertical-align: top;\n",
       "    }\n",
       "\n",
       "    .dataframe thead th {\n",
       "        text-align: right;\n",
       "    }\n",
       "</style>\n",
       "<table border=\"1\" class=\"dataframe\">\n",
       "  <thead>\n",
       "    <tr style=\"text-align: right;\">\n",
       "      <th></th>\n",
       "      <th>index</th>\n",
       "      <th>created_at</th>\n",
       "      <th>date</th>\n",
       "      <th>timezone</th>\n",
       "      <th>tweet</th>\n",
       "      <th>language</th>\n",
       "      <th>hashtags</th>\n",
       "      <th>cashtags</th>\n",
       "      <th>day</th>\n",
       "      <th>hour</th>\n",
       "      <th>link</th>\n",
       "      <th>retweet</th>\n",
       "      <th>nlikes</th>\n",
       "      <th>nreplies</th>\n",
       "      <th>nretweets</th>\n",
       "    </tr>\n",
       "  </thead>\n",
       "  <tbody>\n",
       "    <tr>\n",
       "      <th>0</th>\n",
       "      <td>0</td>\n",
       "      <td>1.27E+12</td>\n",
       "      <td>08/02/10 5:29</td>\n",
       "      <td>530.0</td>\n",
       "      <td>wrote number six yesterday could n't tell forw...</td>\n",
       "      <td>en</td>\n",
       "      <td>[]</td>\n",
       "      <td>[]</td>\n",
       "      <td>1</td>\n",
       "      <td>5.0</td>\n",
       "      <td>https://twitter.com/Kerry_McGuire/status/87853...</td>\n",
       "      <td>False</td>\n",
       "      <td>0.0</td>\n",
       "      <td>0.0</td>\n",
       "      <td>0.0</td>\n",
       "    </tr>\n",
       "    <tr>\n",
       "      <th>1</th>\n",
       "      <td>1</td>\n",
       "      <td>1.27E+12</td>\n",
       "      <td>08/02/10 5:00</td>\n",
       "      <td>530.0</td>\n",
       "      <td>dyslexia worsening ... time break - 's everyone</td>\n",
       "      <td>en</td>\n",
       "      <td>[]</td>\n",
       "      <td>[]</td>\n",
       "      <td>1</td>\n",
       "      <td>5.0</td>\n",
       "      <td>https://twitter.com/mhp/status/8784063860</td>\n",
       "      <td>False</td>\n",
       "      <td>0.0</td>\n",
       "      <td>0.0</td>\n",
       "      <td>0.0</td>\n",
       "    </tr>\n",
       "    <tr>\n",
       "      <th>2</th>\n",
       "      <td>2</td>\n",
       "      <td>1.27E+12</td>\n",
       "      <td>08/02/10 4:41</td>\n",
       "      <td>530.0</td>\n",
       "      <td>child reading disability . emotional problem ?...</td>\n",
       "      <td>en</td>\n",
       "      <td>['dyslexia', 'literacy', 'parenting']</td>\n",
       "      <td>[]</td>\n",
       "      <td>1</td>\n",
       "      <td>4.0</td>\n",
       "      <td>https://twitter.com/GaryBrannigan/status/87832...</td>\n",
       "      <td>False</td>\n",
       "      <td>0.0</td>\n",
       "      <td>0.0</td>\n",
       "      <td>0.0</td>\n",
       "    </tr>\n",
       "    <tr>\n",
       "      <th>3</th>\n",
       "      <td>4</td>\n",
       "      <td>1.27E+12</td>\n",
       "      <td>08/02/10 3:32</td>\n",
       "      <td>530.0</td>\n",
       "      <td># shoutout dyslexia fucking spelling since 1986</td>\n",
       "      <td>en</td>\n",
       "      <td>['shoutout']</td>\n",
       "      <td>[]</td>\n",
       "      <td>1</td>\n",
       "      <td>3.0</td>\n",
       "      <td>https://twitter.com/que_teena/status/8780755550</td>\n",
       "      <td>False</td>\n",
       "      <td>0.0</td>\n",
       "      <td>0.0</td>\n",
       "      <td>0.0</td>\n",
       "    </tr>\n",
       "    <tr>\n",
       "      <th>4</th>\n",
       "      <td>5</td>\n",
       "      <td>1.27E+12</td>\n",
       "      <td>08/02/10 3:29</td>\n",
       "      <td>530.0</td>\n",
       "      <td>slang like fucking dyslexia .</td>\n",
       "      <td>en</td>\n",
       "      <td>[]</td>\n",
       "      <td>[]</td>\n",
       "      <td>1</td>\n",
       "      <td>3.0</td>\n",
       "      <td>https://twitter.com/AliceRoyds/status/8780657873</td>\n",
       "      <td>False</td>\n",
       "      <td>0.0</td>\n",
       "      <td>0.0</td>\n",
       "      <td>0.0</td>\n",
       "    </tr>\n",
       "  </tbody>\n",
       "</table>\n",
       "</div>"
      ],
      "text/plain": [
       "   index created_at           date  timezone  \\\n",
       "0      0   1.27E+12  08/02/10 5:29     530.0   \n",
       "1      1   1.27E+12  08/02/10 5:00     530.0   \n",
       "2      2   1.27E+12  08/02/10 4:41     530.0   \n",
       "3      4   1.27E+12  08/02/10 3:32     530.0   \n",
       "4      5   1.27E+12  08/02/10 3:29     530.0   \n",
       "\n",
       "                                               tweet language  \\\n",
       "0  wrote number six yesterday could n't tell forw...       en   \n",
       "1    dyslexia worsening ... time break - 's everyone       en   \n",
       "2  child reading disability . emotional problem ?...       en   \n",
       "3    # shoutout dyslexia fucking spelling since 1986       en   \n",
       "4                      slang like fucking dyslexia .       en   \n",
       "\n",
       "                                hashtags cashtags day  hour  \\\n",
       "0                                     []       []   1   5.0   \n",
       "1                                     []       []   1   5.0   \n",
       "2  ['dyslexia', 'literacy', 'parenting']       []   1   4.0   \n",
       "3                           ['shoutout']       []   1   3.0   \n",
       "4                                     []       []   1   3.0   \n",
       "\n",
       "                                                link retweet  nlikes  \\\n",
       "0  https://twitter.com/Kerry_McGuire/status/87853...   False     0.0   \n",
       "1          https://twitter.com/mhp/status/8784063860   False     0.0   \n",
       "2  https://twitter.com/GaryBrannigan/status/87832...   False     0.0   \n",
       "3    https://twitter.com/que_teena/status/8780755550   False     0.0   \n",
       "4   https://twitter.com/AliceRoyds/status/8780657873   False     0.0   \n",
       "\n",
       "   nreplies  nretweets  \n",
       "0       0.0        0.0  \n",
       "1       0.0        0.0  \n",
       "2       0.0        0.0  \n",
       "3       0.0        0.0  \n",
       "4       0.0        0.0  "
      ]
     },
     "execution_count": 37,
     "metadata": {},
     "output_type": "execute_result"
    }
   ],
   "source": [
    "final_df.head()"
   ]
  },
  {
   "cell_type": "code",
   "execution_count": 38,
   "id": "7ea9ba28",
   "metadata": {},
   "outputs": [],
   "source": [
    "final_df.to_csv('cleaned_df.csv')\n",
    "#Saving the cleaned dataframe"
   ]
  },
  {
   "cell_type": "code",
   "execution_count": 39,
   "id": "3711938f-c5c5-4a8e-9fde-108556915c30",
   "metadata": {},
   "outputs": [],
   "source": [
    "final_df = pd.read_csv('cleaned_df.csv')"
   ]
  },
  {
   "cell_type": "code",
   "execution_count": 40,
   "id": "ec66ae9f",
   "metadata": {},
   "outputs": [],
   "source": [
    "sid_obj = SentimentIntensityAnalyzer()"
   ]
  },
  {
   "cell_type": "code",
   "execution_count": 41,
   "id": "8b870afb",
   "metadata": {},
   "outputs": [],
   "source": [
    "vectorized_sents_=[]\n",
    "sentences_parallel_list = []\n",
    "\n",
    "\n",
    "\n",
    "for sent1 in final_df['tweet']:\n",
    "    score_=[]\n",
    "    final_sentiments = sid_obj.polarity_scores(sent1)\n",
    "    score_.append(final_sentiments['pos'])\n",
    "    score_.append(final_sentiments['neg'])\n",
    "    vectorized_sents_.append(score_)\n",
    "    sentences_parallel_list.append(sent1)\n",
    "\n"
   ]
  },
  {
   "cell_type": "code",
   "execution_count": 42,
   "id": "ff75a0ee",
   "metadata": {},
   "outputs": [],
   "source": [
    "vectorized_sents_  = np.array(vectorized_sents_)"
   ]
  },
  {
   "cell_type": "code",
   "execution_count": 43,
   "id": "b2981da1",
   "metadata": {},
   "outputs": [],
   "source": [
    "positive_vectorized_sents = vectorized_sents_[:,0] # positive\n",
    "negative_vectorized_sents = vectorized_sents_[:,1] # negative"
   ]
  },
  {
   "cell_type": "code",
   "execution_count": 44,
   "id": "5230af80",
   "metadata": {},
   "outputs": [
    {
     "data": {
      "text/plain": [
       "Text(0, 0.5, ' Negative ')"
      ]
     },
     "execution_count": 44,
     "metadata": {},
     "output_type": "execute_result"
    },
    {
     "data": {
      "image/png": "[encoded data removed]",
      "text/plain": [
       "<Figure size 432x288 with 1 Axes>"
      ]
     },
     "metadata": {
      "needs_background": "light"
     },
     "output_type": "display_data"
    }
   ],
   "source": [
    "plt.title(\"Visualisation of vectorized data\")\n",
    "plt.scatter(x=positive_vectorized_sents, y=negative_vectorized_sents)\n",
    "plt.xlabel(\" Positive \")\n",
    "plt.ylabel(\" Negative \")"
   ]
  },
  {
   "cell_type": "code",
   "execution_count": 45,
   "id": "897b87a6",
   "metadata": {},
   "outputs": [
    {
     "data": {
      "image/png": "[encoded data removed]",
      "text/plain": [
       "<Figure size 432x288 with 1 Axes>"
      ]
     },
     "metadata": {
      "needs_background": "light"
     },
     "output_type": "display_data"
    }
   ],
   "source": [
    "# elbow method to find best number of clusters\n",
    "distortions = []\n",
    "for i in range(1, 11):\n",
    "    km = KMeans(\n",
    "        n_clusters=i, init='k-means++',\n",
    "        n_init=10, max_iter=300,\n",
    "        tol=1e-04, random_state=0\n",
    "    )\n",
    "    km.fit(vectorized_sents_)\n",
    "    distortions.append(km.inertia_)\n",
    "\n",
    "plt.plot(range(1, 11), distortions, marker='o')\n",
    "plt.xlabel('Number of clusters')\n",
    "plt.ylabel('Distortion')\n",
    "plt.show()"
   ]
  },
  {
   "cell_type": "markdown",
   "id": "4747933e",
   "metadata": {},
   "source": [
    "## The main aim of a good clustering model is low inertia and low number of clusters, which is why i will chose 4 clusters"
   ]
  },
  {
   "cell_type": "code",
   "execution_count": 46,
   "id": "43cd5315",
   "metadata": {},
   "outputs": [],
   "source": [
    "km_model = KMeans(n_clusters=4, init=\"k-means++\")"
   ]
  },
  {
   "cell_type": "code",
   "execution_count": 47,
   "id": "ef3fd0d1",
   "metadata": {},
   "outputs": [],
   "source": [
    "clustered = km_model.fit(vectorized_sents_)"
   ]
  },
  {
   "cell_type": "code",
   "execution_count": 48,
   "id": "fd13de56",
   "metadata": {},
   "outputs": [
    {
     "data": {
      "text/plain": [
       "array([[0.00863586, 0.01506252],\n",
       "       [0.36159016, 0.02880287],\n",
       "       [0.17848104, 0.03717235],\n",
       "       [0.05168368, 0.27003733]])"
      ]
     },
     "execution_count": 48,
     "metadata": {},
     "output_type": "execute_result"
    }
   ],
   "source": [
    "clustered.cluster_centers_"
   ]
  },
  {
   "cell_type": "code",
   "execution_count": 49,
   "id": "964244df",
   "metadata": {},
   "outputs": [
    {
     "name": "stdout",
     "output_type": "stream",
     "text": [
      "{0: ['whoweareuk', 'lizditz', 'getqueenbee', 'kristenkiefer4', 'knwachter', 'wendyorent', 'obnoxbe', 'margie_moo', 'milanovnina', 'hupperichwerner', 'scienceotter1', 'danielbabanks', 'mc40_e', 'stopvaxxedlies', 'amanda_pompili', 'ianfmusgrave', 'emmagpaley', 'saluce65', 'account', 'preventing', 'edtech', 'stem', 'pbl', 'k12', 'ece', 'highered', 'classroom', 'edchat', 'edtechchat', 'elearning', 'earlyed', 'collegechat', 'autistic', 'learn', 'mathematical', 'come', 'neurodivergant', 'even', 'real__ari', 'jbarnathan', 'malkaavram', 'leylakhalid22', 'learning', 'reading', 'writing', 'work', 'lot', 'thing', '&', 'amp', ';', 'child', '(', ')', 'krochetxkorner', 'carlsmythe', 'hades91117954', 'anastasiaklynch', 'teacher', 'autism', 'thought', 'adhd', 'lisatrainer10', 'e_neko_san', 'margolisshana', 'angelin80379301', 'ladyalmagreen', 'priestsanity', 'toprantking', 'rasputinish', 'artspeakcentral', 'serhumanomiguel', 'hebmacman', 'copia_copma1', 'know', 'try', 'people', 'realhasdaic', 'slax43', 'pakeha56', 'david_starof', 'p3ng1z', 'scripteladora', 'affect', 'school', \"n't\", \"'s\", '``', \"''\", 'dysgraphia', '?', '’', 'http', 'dyscalculia', ':', 'dyslexia', ',', '.', '#', '@'], 1: ['subject', 'gifted', 'talented', 'esl', 'housed', 'grime', '//t.co/67usuro3tv', 'video', 'interest', 'find', 'done', 'everything', 'storytelling', 'post', 'lmao', 'stuff', 'lucky', 'give', 'boy', 'area', 'half', 'phone', '😂', 'funny', 'long', 'mine', 'code', '%', 'age', 'worked', 'dont', 'gift', 'sharing', 'richardbranson', 'succeed', 'talked', 'mutual', 'else', 'success', 'confidence', 'lack', 'two', 'gave', 'theatre', 'listen', 'science', 'working', 'drjhoov', 'thanks', 'visual', 'pretty', 'awesome', 'w/o', 'lovely', 'elizabeth', 'chat', 'thekennyjohnson', '..', 'take', 'matter', 'wish', '-i', 'challenge', 'supporting', '🥰', 'university', 'free', 'well', 'amazing', 'beautiful', 'totally', 'lol', 'best', 'son', 'life', 'every', 'better', 'cool', 'reader', 'let', 'grateful', 'count', 'happy', 'enjoy', 'miss', 'special', 'feel', 'creative', 'got', 'anything', 'could', 'thank', 'remember', 'book', 'always', 'day', 'good', 'great', 'love', 'help'], 2: ['explicit', 'instruction', 'assistivetech', 'crucial', 'accommodation', 'concert', '//t.co/hxc8u989p3', 'mrnunesteach', 'technology', 'sam', 'kary', '21st', 'century', 'teacher/new', 'growth', 'podcasting', 'battling', 'iep', 'road', 'pm', 'onion', 'job', 'prospective', 'prepared', 'heatwaves', 'advice', 'facebook', '\\U0001fae0', 'changed', 'affected', 'usa', 'cost', 'fortune', 'costly', 'independent', 'play', 'outsize', 'treatment', 'course', 'leave', 'neurodivergent', 'writer', 'rt', 'jhaysleem', 'ur', 'difficulty', 'stevemcfirerisk', 'coachadam34', 'dyslexiclibrary', 'madebydyslexia', 'tag', 'stephen', '💫', 'across', 'pond', 'neurodiversity', 'asperger', 'aspie', 'austim', 'retention', 'plan', 'really', 'happens', 'w/', 'going', 'potus', 'policy', 'proposal', 'and/or', 'phonics', 'le', 'subbed', 'emma_hanwell', 'assessment', 'steve', 'eddie', 'since', 'ipad', 'story', 'career', 'question', \"'ll\", \"'\", 'candidate', 'american', 'letter', 'honeygirl1978', 'soozer4', 'sallymayweather', 'yayanarchy', 'already', 'curriculum', 'tailored', 'stopping', 'tech', '👉', 'write', '1in5', 'helping', '•'], 3: ['monica', \"how'bout\", 'uneducated', 'imbecile', 'incapable', 'bullied', 'indirectly', 'murder', 'attention', 'deficit', 'hyperactivity', 'frustrate', 'confound', 'educators.', 'hellip', '//t.co/nhhmtfpkvv', 'peyta', 'listed', 'dysgraphia—motor', 'period', 'intense', 'superinspired67', 'alarm', '😣', 'bowenteach', 'katieraebuck', 'suggest', 'cruel', 'sloooooooowwwwwww', 'cleaner', 'shape', 'irregularly', 'shaped/uneven/inconsistent', 'rant', 'suck', 'forward', 'spare', 'gun', 'scenery', 'game', 'dog', 'walk', 'cant', 'wright', 'jupelletier', 'sighted', 'blind', 'error', 'low', 'user', 'dumb', 'suffered', 'talking', 'fear', 'dx', 'self', 'chill', 'finally', 'hell', 'ppl', 'mild', 'severe', 'hated', 'clown', 'purpose', 'ableist', 'suffers', 'whole', 'notice', '😭😭', 'poor', 'blindness', 'hurt', 'idk', 'label', 'laughing', 'suffering', 'hate', 'pain', 'print', 'trouble', 'tut', 'terribly', '4', 'detective', 'arm', 'color', 'contrast', 'font', 'chronic', 'fuck', 'shit', 'depression', 'stupidity', 'wrong', 'met', 'made', 'disorder', 'problem', 'bad']}\n"
     ]
    }
   ],
   "source": [
    "final_top_words = {}\n",
    "f_dict={}\n",
    "for i in range(4):\n",
    "    d = clustered.transform(vectorized_sents_)[:, i]\n",
    "    ind = np.argsort(d)[::][:50]\n",
    "    final_list = [sentences_parallel_list[k] for k in ind]\n",
    "    dict1 = {}\n",
    "    for j in final_list:\n",
    "        for z in j.split(' '):\n",
    "            if z in dict1.keys():\n",
    "                dict1[z]+=1\n",
    "            else:\n",
    "                dict1[z] = 1\n",
    "     \n",
    "    \n",
    "    \n",
    "    dict2 = sorted(dict1, key=dict1.get)\n",
    " \n",
    "    for w in dict2:\n",
    "        f_dict[w] = dict1[w]\n",
    "    \n",
    "    x = list(f_dict.keys())\n",
    "    #print(x)\n",
    "    final_top_words[i] = x[-100:]\n",
    "    \n",
    "print(final_top_words)\n",
    " "
   ]
  },
  {
   "cell_type": "code",
   "execution_count": 51,
   "id": "ba84a530-75aa-48e0-9468-c8d215827c40",
   "metadata": {},
   "outputs": [],
   "source": [
    "def total_terms(term):\n",
    "    term_count=0\n",
    "    for i in final_df['tweet']:\n",
    "        if term in i.split():\n",
    "            term_count+=1\n",
    "    \n",
    "    return term_count"
   ]
  },
  {
   "cell_type": "code",
   "execution_count": 52,
   "id": "683f39f7",
   "metadata": {},
   "outputs": [],
   "source": [
    "def total_pos_neg(term):\n",
    "    total_pos=0\n",
    "    total_neg=0\n",
    "    for i in final_df['tweet']:\n",
    "        if term in i.split():\n",
    "            final_sentiments = sid_obj.polarity_scores(i)\n",
    "            pos_score = final_sentiments['pos']\n",
    "            neg_score = final_sentiments['neg']\n",
    "            if(pos_score>neg_score):\n",
    "                total_pos+=1\n",
    "            else:\n",
    "                total_neg+=1\n",
    "        \n",
    "    return total_pos, total_neg\n"
   ]
  },
  {
   "cell_type": "code",
   "execution_count": 53,
   "id": "4477d40a-8a1b-45cd-ac65-fa9eab9a2b9f",
   "metadata": {},
   "outputs": [],
   "source": [
    "keywords = [\"dyscalculia\", \"dyslexia\", \"dysgraphia\"]"
   ]
  },
  {
   "cell_type": "code",
   "execution_count": 54,
   "id": "56ae96b9-ccf5-4f4b-9eee-c1ed5c3a1f22",
   "metadata": {},
   "outputs": [
    {
     "data": {
      "image/png": "[encoded data removed]",
      "text/plain": [
       "<Figure size 432x288 with 1 Axes>"
      ]
     },
     "metadata": {
      "needs_background": "light"
     },
     "output_type": "display_data"
    }
   ],
   "source": [
    "terms=[]\n",
    "for i in keywords:\n",
    "    total_count = total_terms(i)\n",
    "    terms.append(total_count)\n",
    "\n",
    "plt.title(\"Word count\")\n",
    "plt.bar(keywords, terms)\n",
    "plt.show()"
   ]
  },
  {
   "cell_type": "code",
   "execution_count": 55,
   "id": "b881f5d0-a434-4e7c-a5ef-55230580f050",
   "metadata": {},
   "outputs": [
    {
     "name": "stdout",
     "output_type": "stream",
     "text": [
      "The total positive for the word dyscalculia is 16266 and the negative is 23919\n",
      "The total positive for the word dyslexia is 33851 and the negative is 36248\n",
      "The total positive for the word dysgraphia is 7567 and the negative is 8126\n"
     ]
    }
   ],
   "source": [
    "\n",
    "pos_neg_arr=[]\n",
    "for i in keywords:\n",
    "    pos, neg = total_pos_neg(i)\n",
    "    print(f\"The total positive for the word {i} is {pos} and the negative is {neg}\")\n",
    "    pos_neg_arr.append([pos, neg])\n",
    "   \n",
    "    "
   ]
  },
  {
   "cell_type": "code",
   "execution_count": 56,
   "id": "53fd2222-a1e7-4b58-9a40-35b8f43e402b",
   "metadata": {},
   "outputs": [
    {
     "data": {
      "image/png": "[encoded data removed]",
      "text/plain": [
       "<Figure size 432x288 with 1 Axes>"
      ]
     },
     "metadata": {
      "needs_background": "light"
     },
     "output_type": "display_data"
    }
   ],
   "source": [
    "plt.title(\"Dyslexia\")\n",
    "plt.bar(['positive', 'negative'], pos_neg_arr[0])\n",
    "plt.show()"
   ]
  },
  {
   "cell_type": "code",
   "execution_count": 57,
   "id": "ae384733-f89c-478e-b752-fb968276dea4",
   "metadata": {},
   "outputs": [
    {
     "data": {
      "image/png": "[encoded data removed]",
      "text/plain": [
       "<Figure size 432x288 with 1 Axes>"
      ]
     },
     "metadata": {
      "needs_background": "light"
     },
     "output_type": "display_data"
    }
   ],
   "source": [
    "plt.title(\"Dyscalculia\")\n",
    "plt.bar(['positive', 'negative'], pos_neg_arr[1])\n",
    "plt.show()"
   ]
  },
  {
   "cell_type": "code",
   "execution_count": 58,
   "id": "72e608f8-beb3-4cc3-9e5f-e382c506ac10",
   "metadata": {},
   "outputs": [
    {
     "data": {
      "image/png": "[encoded data removed]",
      "text/plain": [
       "<Figure size 432x288 with 1 Axes>"
      ]
     },
     "metadata": {
      "needs_background": "light"
     },
     "output_type": "display_data"
    }
   ],
   "source": [
    "plt.title(\"Dysgraphia\")\n",
    "plt.bar(['positive', 'negative'], pos_neg_arr[2])\n",
    "plt.show()"
   ]
  },
  {
   "cell_type": "code",
   "execution_count": 59,
   "id": "61b414e2-c75b-488c-bfd6-4476e129b667",
   "metadata": {},
   "outputs": [],
   "source": [
    "final_dates = {}\n",
    "for i in final_df['date']:\n",
    "    if i[:8] in final_dates:\n",
    "        final_dates[i[:8]] = final_dates[i[:8]]+1\n",
    "    else:\n",
    "        final_dates[i[:8]]=1\n",
    "        "
   ]
  },
  {
   "cell_type": "code",
   "execution_count": 60,
   "id": "42f11005-15d7-4d17-9d81-b928d38e045e",
   "metadata": {
    "tags": []
   },
   "outputs": [
    {
     "data": {
      "image/png": "[encoded data removed]",
      "text/plain": [
       "<Figure size 432x288 with 1 Axes>"
      ]
     },
     "metadata": {
      "needs_background": "light"
     },
     "output_type": "display_data"
    }
   ],
   "source": [
    "#sorted_dict = sorted(final_dates.items(), key = operator.itemgetter(1))\n",
    "sorted_dict = sorted(final_dates)\n",
    "\n",
    "x_val = []\n",
    "y_val = []\n",
    "\n",
    "for i in sorted_dict:\n",
    "    x_val.append(i)\n",
    "    y_val.append(final_dates[i])\n",
    "\n",
    "plt.title(\"Distribution of dates and word count\")\n",
    "plt.xlabel(\"Dates in ascending order\")\n",
    "plt.ylabel(\"Word count\")\n",
    "plt.plot(x_val, y_val)\n",
    "plt.show()\n",
    "\n",
    "\n"
   ]
  },
  {
   "cell_type": "code",
   "execution_count": 61,
   "id": "cd2c4094-6e66-46da-b2fd-f5731253a2a7",
   "metadata": {},
   "outputs": [
    {
     "name": "stdout",
     "output_type": "stream",
     "text": [
      "['19/07/22', '20/07/22', '21/07/22', '22/07/22', '23/07/22', '24/07/22', '25/07/22', '26/07/22', '27/07/22', '28/07/22', '29/07/22', '29/10/19']\n"
     ]
    },
    {
     "data": {
      "image/png": "[encoded data removed]",
      "text/plain": [
       "<Figure size 640x480 with 1 Axes>"
      ]
     },
     "metadata": {
      "needs_background": "light"
     },
     "output_type": "display_data"
    }
   ],
   "source": [
    "figure(figsize=(8, 6), dpi=80)\n",
    "dates_with_most_words = sorted(final_dates.items(), key = operator.itemgetter(1))[-12:]\n",
    "dates = []\n",
    "values = []\n",
    "for i in dates_with_most_words:\n",
    "    dates.append(i[0])\n",
    "    \n",
    "dates=sorted(dates)\n",
    "\n",
    "dates_values=[]\n",
    "for i in dates:\n",
    "    dates_values.append(final_dates[i])\n",
    "\n",
    "print(dates)\n",
    "\n",
    "plt.title(\"Distribution of dates with high word counts\")\n",
    "plt.xlabel(\"Dates in ascending order\")\n",
    "plt.ylabel(\"Word count\")\n",
    "plt.plot([i[:5] for i in dates], dates_values)\n",
    "plt.show()"
   ]
  },
  {
   "cell_type": "code",
   "execution_count": 62,
   "id": "3b522a1b-7735-4891-9735-da15a530d0d0",
   "metadata": {},
   "outputs": [],
   "source": [
    "dict1 = {'19/07/22': [], '20/07/22' : [], '21/07/22' : [], '22/07/22' : [], '23/07/22': [], '24/07/22': [], '25/07/22': [], '26/07/22': [], '27/07/22':[], '28/07/22':[], '29/07/22':[], '29/10/19':[]}\n",
    "for i in range(len(final_df['date'])):\n",
    "    if final_df['date'][i][:8] in dates:\n",
    "        dict1[final_df['date'][i][:8]] = dict1[final_df['date'][i][:8]] + [final_df['tweet'][i]]\n",
    "        \n",
    "        "
   ]
  },
  {
   "cell_type": "code",
   "execution_count": 63,
   "id": "c36dc1f3-0f9d-4947-babd-cef10ae983cb",
   "metadata": {
    "tags": []
   },
   "outputs": [],
   "source": [
    "dict2 = {}\n",
    "for i in dict1:\n",
    "    total_pos=0\n",
    "    total_neg=0\n",
    "    for z in dict1[i]:\n",
    "        final_sentiments = sid_obj.polarity_scores(z)\n",
    "        pos_score = final_sentiments['pos']\n",
    "        neg_score = final_sentiments['neg']\n",
    "        if(pos_score>neg_score):\n",
    "            total_pos+=1\n",
    "        else:\n",
    "            total_neg+=1\n",
    "      \n",
    "            \n",
    "    dict2[i] = [total_pos, total_neg]\n",
    "        "
   ]
  },
  {
   "cell_type": "code",
   "execution_count": 64,
   "id": "c32abac9-9c3c-4f40-96f5-7439530af326",
   "metadata": {},
   "outputs": [
    {
     "data": {
      "image/png": "[encoded data removed]",
      "text/plain": [
       "<Figure size 880x480 with 1 Axes>"
      ]
     },
     "metadata": {
      "needs_background": "light"
     },
     "output_type": "display_data"
    }
   ],
   "source": [
    "figure(figsize=(11, 6), dpi=80)\n",
    "X = [i[:8] for i in dict2.keys()]\n",
    "Y_pos = [i[0] for i in dict2.values()]\n",
    "Z_neg = [i[1] for i in dict2.values()]\n",
    "  \n",
    "X_axis = np.arange(len(X))\n",
    "  \n",
    "plt.bar(X_axis - 0.2, Y_pos, 0.4, label = 'Positive tweets')\n",
    "plt.bar(X_axis + 0.2, Z_neg, 0.4, label = 'Negative tweets')\n",
    "  \n",
    "plt.xticks(X_axis, X)\n",
    "plt.xlabel(\"Dates\")\n",
    "plt.ylabel(\"Count of tweets\")\n",
    "plt.title(\"Number of positive and negative tweets at certain dates\")\n",
    "plt.legend()\n",
    "plt.show()"
   ]
  },
  {
   "cell_type": "code",
   "execution_count": null,
   "id": "3d2f99b5-9239-42d9-9fcf-ffc74211e07b",
   "metadata": {},
   "outputs": [],
   "source": []
  },
  {
   "cell_type": "code",
   "execution_count": null,
   "id": "48251718-c833-42a8-aa3c-981a24f9fb5f",
   "metadata": {},
   "outputs": [],
   "source": []
  }
 ],
 "metadata": {
  "kernelspec": {
   "display_name": "Python 3",
   "language": "python",
   "name": "python3"
  },
  "language_info": {
   "codemirror_mode": {
    "name": "ipython",
    "version": 3
   },
   "file_extension": ".py",
   "mimetype": "text/x-python",
   "name": "python",
   "nbconvert_exporter": "python",
   "pygments_lexer": "ipython3",
   "version": "3.8.8"
  }
 },
 "nbformat": 4,
 "nbformat_minor": 5
}
